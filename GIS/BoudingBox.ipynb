{
 "cells": [
  {
   "cell_type": "code",
   "execution_count": 14,
   "metadata": {
    "collapsed": false,
    "deletable": true,
    "editable": true,
    "scrolled": true
   },
   "outputs": [],
   "source": [
    "import geopandas as gpd\n",
    "import glob\n",
    "import overpass\n",
    "from shapely.geometry import *\n",
    "import json\n",
    "import re\n",
    "\n"
   ]
  },
  {
   "cell_type": "markdown",
   "metadata": {
    "deletable": true,
    "editable": true
   },
   "source": [
    "# Get bounding box"
   ]
  },
  {
   "cell_type": "code",
   "execution_count": 30,
   "metadata": {
    "collapsed": false,
    "deletable": true,
    "editable": true
   },
   "outputs": [
    {
     "name": "stdout",
     "output_type": "stream",
     "text": [
      "../cities/portland/urban_edge_t3.geojson\n",
      "../cities/portland/\n",
      "portland Done!\n"
     ]
    }
   ],
   "source": [
    "for city_path in glob.glob(\"../cities/portland/*.geojson\"):\n",
    "    city = gpd.GeoDataFrame.from_file(city_path)\n",
    "    bbox =  list(city.bounds.loc[:,['miny','minx']].min()) + list(city.bounds.loc[:,['maxy','maxx']].max())\n",
    "    bbox = re.sub('[\\[\\]]', '', str(bbox))\n",
    "    city_name = str(city_path.split('/')[2])\n",
    "    city_prefix = str(city_path.rstrip('urban_edge_t3.geojson'))\n",
    "    apix = overpass.API()\n",
    "    response = apix.Get('(rel('+ str(bbox) +')[\"route\"=\"bus\"];);(._;>;)')\n",
    "    with open(city_prefix + city_name + '_bus.geojson', 'w') as fp:\n",
    "        json.dump(response, fp)\n",
    "    print str(city_name) + \" Done!\""
   ]
  },
  {
   "cell_type": "code",
   "execution_count": null,
   "metadata": {
    "collapsed": true,
    "deletable": true,
    "editable": true
   },
   "outputs": [],
   "source": []
  }
 ],
 "metadata": {
  "kernelspec": {
   "display_name": "Python 2",
   "language": "python",
   "name": "python2"
  },
  "language_info": {
   "codemirror_mode": {
    "name": "ipython",
    "version": 2
   },
   "file_extension": ".py",
   "mimetype": "text/x-python",
   "name": "python",
   "nbconvert_exporter": "python",
   "pygments_lexer": "ipython2",
   "version": "2.7.10"
  }
 },
 "nbformat": 4,
 "nbformat_minor": 0
}
