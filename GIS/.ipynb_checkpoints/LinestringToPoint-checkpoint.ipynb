{
 "cells": [
  {
   "cell_type": "code",
   "execution_count": 1,
   "metadata": {
    "collapsed": true
   },
   "outputs": [],
   "source": [
    "import pandas as pd\n",
    "import geopandas as gpd\n",
    "import json\n",
    "from mapbox import MapMatcher"
   ]
  },
  {
   "cell_type": "code",
   "execution_count": null,
   "metadata": {
    "collapsed": true
   },
   "outputs": [],
   "source": [
    "#converts a shapely linestring to a string of points.\n",
    "\n",
    "all_routes = gpd.GeoDataFrame.from_file('routes.geojson')\n",
    "zp58_1 = all_routes[all_routes['trip_id'] == 'trip_id_101']\n",
    "\n",
    "for x in route.geometry:\n",
    "    route_points = [x.strip(' ') for x in str(x).lstrip('MULTILINESTRING ((').rstrip('))').split(',')]\n",
    "    route_points = [x.replace(\" \",\",\") for x in route_points]\n",
    "    foo = ';'.join(route_points)"
   ]
  },
  {
   "cell_type": "code",
   "execution_count": null,
   "metadata": {
    "collapsed": true
   },
   "outputs": [],
   "source": []
  },
  {
   "cell_type": "code",
   "execution_count": null,
   "metadata": {
    "collapsed": true
   },
   "outputs": [],
   "source": []
  }
 ],
 "metadata": {
  "kernelspec": {
   "display_name": "Python 2",
   "language": "python",
   "name": "python2"
  },
  "language_info": {
   "codemirror_mode": {
    "name": "ipython",
    "version": 2
   },
   "file_extension": ".py",
   "mimetype": "text/x-python",
   "name": "python",
   "nbconvert_exporter": "python",
   "pygments_lexer": "ipython2",
   "version": "2.7.10"
  }
 },
 "nbformat": 4,
 "nbformat_minor": 2
}
