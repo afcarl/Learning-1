{
 "cells": [
  {
   "cell_type": "markdown",
   "metadata": {},
   "source": [
    "---\n",
    "\n",
    "_You are currently looking at **version 1.0** of this notebook. To download notebooks and datafiles, as well as get help on Jupyter notebooks in the Coursera platform, visit the [Jupyter Notebook FAQ](https://www.coursera.org/learn/python-data-analysis/resources/0dhYG) course resource._\n",
    "\n",
    "---"
   ]
  },
  {
   "cell_type": "code",
   "execution_count": 143,
   "metadata": {
    "collapsed": true
   },
   "outputs": [],
   "source": [
    "import pandas as pd\n",
    "import numpy as np\n",
    "from scipy.stats import ttest_ind\n",
    "import re"
   ]
  },
  {
   "cell_type": "markdown",
   "metadata": {},
   "source": [
    "# Assignment 4 - Hypothesis Testing\n",
    "This assignment requires more individual learning than previous assignments - you are encouraged to check out the [pandas documentation](http://pandas.pydata.org/pandas-docs/stable/) to find functions or methods you might not have used yet, or ask questions on [Stack Overflow](http://stackoverflow.com/) and tag them as pandas and python related. And of course, the discussion forums are open for interaction with your peers and the course staff.\n",
    "\n",
    "Definitions:\n",
    "* A _quarter_ is a specific three month period, Q1 is January through March, Q2 is April through June, Q3 is July through September, Q4 is October through December.\n",
    "* A _recession_ is defined as starting with two consecutive quarters of GDP decline, and ending with two consecutive quarters of GDP growth.\n",
    "* A _recession bottom_ is the quarter within a recession which had the lowest GDP.\n",
    "* A _university town_ is a city which has a high percentage of university students compared to the total population of the city.\n",
    "\n",
    "**Hypothesis**: University towns have their mean housing prices less effected by recessions. Run a t-test to compare the ratio of the mean price of houses in university towns the quarter before the recession starts compared to the recession bottom. (`price_ratio=quarter_before_recession/recession_bottom`)\n",
    "\n",
    "The following data files are available for this assignment:\n",
    "* From the [Zillow research data site](http://www.zillow.com/research/data/) there is housing data for the United States. In particular the datafile for [all homes at a city level](http://files.zillowstatic.com/research/public/City/City_Zhvi_AllHomes.csv), ```City_Zhvi_AllHomes.csv```, has median home sale prices at a fine grained level.\n",
    "* From the Wikipedia page on college towns is a list of [university towns in the United States](https://en.wikipedia.org/wiki/List_of_college_towns#College_towns_in_the_United_States) which has been copy and pasted into the file ```university_towns.txt```.\n",
    "* From Bureau of Economic Analysis, US Department of Commerce, the [GDP over time](http://www.bea.gov/national/index.htm#gdp) of the United States in current dollars (use the chained value in 2009 dollars), in quarterly intervals, in the file ```gdplev.xls```. For this assignment, only look at GDP data from the first quarter of 2000 onward.\n",
    "\n",
    "Each function in this assignment below is worth 10%, with the exception of ```run_ttest()```, which is worth 50%."
   ]
  },
  {
   "cell_type": "code",
   "execution_count": 2,
   "metadata": {
    "collapsed": true
   },
   "outputs": [],
   "source": [
    "import pandas as pd\n",
    "import numpy as np\n",
    "from scipy import stats"
   ]
  },
  {
   "cell_type": "code",
   "execution_count": 3,
   "metadata": {
    "collapsed": false
   },
   "outputs": [],
   "source": [
    "# Use this dictionary to map state names to two letter acronyms\n",
    "states = {'OH': 'Ohio', 'KY': 'Kentucky', 'AS': 'American Samoa', 'NV': 'Nevada', 'WY': 'Wyoming', 'NA': 'National', 'AL': 'Alabama', 'MD': 'Maryland', 'AK': 'Alaska', 'UT': 'Utah', 'OR': 'Oregon', 'MT': 'Montana', 'IL': 'Illinois', 'TN': 'Tennessee', 'DC': 'District of Columbia', 'VT': 'Vermont', 'ID': 'Idaho', 'AR': 'Arkansas', 'ME': 'Maine', 'WA': 'Washington', 'HI': 'Hawaii', 'WI': 'Wisconsin', 'MI': 'Michigan', 'IN': 'Indiana', 'NJ': 'New Jersey', 'AZ': 'Arizona', 'GU': 'Guam', 'MS': 'Mississippi', 'PR': 'Puerto Rico', 'NC': 'North Carolina', 'TX': 'Texas', 'SD': 'South Dakota', 'MP': 'Northern Mariana Islands', 'IA': 'Iowa', 'MO': 'Missouri', 'CT': 'Connecticut', 'WV': 'West Virginia', 'SC': 'South Carolina', 'LA': 'Louisiana', 'KS': 'Kansas', 'NY': 'New York', 'NE': 'Nebraska', 'OK': 'Oklahoma', 'FL': 'Florida', 'CA': 'California', 'CO': 'Colorado', 'PA': 'Pennsylvania', 'DE': 'Delaware', 'NM': 'New Mexico', 'RI': 'Rhode Island', 'MN': 'Minnesota', 'VI': 'Virgin Islands', 'NH': 'New Hampshire', 'MA': 'Massachusetts', 'GA': 'Georgia', 'ND': 'North Dakota', 'VA': 'Virginia'}"
   ]
  },
  {
   "cell_type": "code",
   "execution_count": 4,
   "metadata": {
    "collapsed": false
   },
   "outputs": [],
   "source": [
    "#!cat university_towns.txt"
   ]
  },
  {
   "cell_type": "code",
   "execution_count": 5,
   "metadata": {
    "collapsed": false
   },
   "outputs": [],
   "source": [
    "def get_list_of_university_towns():\n",
    "    '''Returns a DataFrame of towns and the states they are in from the \n",
    "    university_towns.txt list. The format of the DataFrame should be:\n",
    "    DataFrame( [ [\"Michigan\",\"Ann Arbor\"], [\"Michigan\", \"Yipsilanti\"] ], \n",
    "    columns=[\"State\",\"RegionName\"]  )'''\n",
    "    '''\n",
    "    f = open('university_towns.txt', 'r')\n",
    "    universities_text = pd.Series(f.readlines())\n",
    "    universities_text.replace(['\\(.*\\)'],[''], regex=True, inplace=True)\n",
    "    universities_text.replace(['\\\\n'],[''], regex=True, inplace=True)\n",
    "    universities_text.replace(['\\[\\d\\]'],[''], regex=True, inplace=True)\n",
    "    state_indices = universities_text[universities_text.str.contains('\\[edit\\]')].index.tolist()\n",
    "    universities_text.replace(['\\[edit\\]'],[''], regex=True, inplace=True)\n",
    "    universities_text = universities_text.str.strip()\n",
    "    UniversityTowns = pd.DataFrame(universities_text, columns=['RegionName'])\n",
    "    UniversityTowns['State'] = ''\n",
    "    state_indices.append(len(UniversityTowns))\n",
    "    for i in range(0,len(state_indices)-1):\n",
    "        UniversityTowns.loc[state_indices[i]:(state_indices[i+1]),'State'] = UniversityTowns['RegionName'].iloc[state_indices[i]]\n",
    "    UniversityTowns.drop(UniversityTowns.index[state_indices[0:-1]], inplace=True)\n",
    "    UniversityTowns = UniversityTowns[['State', 'RegionName']]\n",
    "    UniversityTowns = UniversityTowns.reset_index(drop=True)\n",
    "    '''\n",
    "    df = pd.read_csv('university_towns.txt', sep=\"\\n\", header = None,names=['name'])\n",
    "    university = df[df['name'].str.contains('[edit]',regex=False)].index.tolist()\n",
    "    university.append(len(df))\n",
    "    for i in range(1,len(university)):\n",
    "        df.loc[(df.index >= university[i-1])&(df.index < university[i]),'State'] = df['name'].iloc[university[i-1]]\n",
    "    df.drop(df.index[university[:-1]],inplace=True)\n",
    "    df['State'] = df['State'].str.replace(r\"\\[.*\",\"\")\n",
    "    df['RegionName'] = df['name'].str.replace(r\" \\(.*\",'')\n",
    "    df['RegionName'] = df['RegionName'].str.replace(r\"\\[.*\",\"\")\n",
    "    del df['name']\n",
    "    df = df.reset_index(drop=True)\n",
    "    return df\n"
   ]
  },
  {
   "cell_type": "code",
   "execution_count": 43,
   "metadata": {
    "collapsed": false
   },
   "outputs": [
    {
     "data": {
      "text/plain": [
       "'2008q3'"
      ]
     },
     "execution_count": 43,
     "metadata": {},
     "output_type": "execute_result"
    }
   ],
   "source": [
    "def get_recession_start():\n",
    "    '''Returns the year and quarter of the recession start time as a \n",
    "    string value in a format such as 2005q3'''\n",
    "    gdp = pd.read_excel('gdplev.xls', usecols=range(4,7), skiprows=7)\n",
    "    gdp.columns = ['Quarter', 'GDP', 'GDP Chained']\n",
    "    gdp = gdp.iloc[gdp[gdp['Quarter'].str.startswith('2000')].index.tolist()[0]:].reset_index(drop=True)\n",
    "    gdp['diff'] = gdp['GDP Chained'].diff()\n",
    "    gdp['recession_start'] = [(gdp['diff'].iloc[i]<0) & (gdp['diff'].iloc[i-1]<0) for i,x in enumerate(gdp['diff'])]\n",
    "    return gdp.iloc[gdp[gdp['recession_start'] == True].index.tolist()[0] -1]['Quarter']\n",
    "    "
   ]
  },
  {
   "cell_type": "code",
   "execution_count": 45,
   "metadata": {
    "collapsed": false
   },
   "outputs": [
    {
     "data": {
      "text/plain": [
       "'2009q3'"
      ]
     },
     "execution_count": 45,
     "metadata": {},
     "output_type": "execute_result"
    }
   ],
   "source": [
    "def get_recession_end():\n",
    "    '''Returns the year and quarter of the recession end time as a \n",
    "    string value in a format such as 2005q3'''\n",
    "    start = get_recession_start()\n",
    "    gdp = pd.read_excel('gdplev.xls', usecols=range(4,7), skiprows=7)\n",
    "    gdp.columns = ['Quarter', 'GDP', 'GDP Chained']\n",
    "    gdp = gdp.iloc[gdp[gdp['Quarter'].str.startswith(start)].index.tolist()[0]:].reset_index(drop=True)\n",
    "    gdp['diff'] = gdp['GDP Chained'].diff()\n",
    "    gdp['recession_end'] = [(gdp['diff'].iloc[i]>0) & (gdp['diff'].iloc[i-1]>0) for i,x in enumerate(gdp['diff'])]\n",
    "    return gdp.iloc[gdp[gdp['recession_end'] == True].index.tolist()[0]]['Quarter']\n"
   ]
  },
  {
   "cell_type": "code",
   "execution_count": 180,
   "metadata": {
    "collapsed": false
   },
   "outputs": [],
   "source": [
    "def get_recession_bottom():\n",
    "    '''Returns the year and quarter of the recession bottom time as a \n",
    "    string value in a format such as 2005q3'''\n",
    "    start = get_recession_start()\n",
    "    end = get_recession_end()\n",
    "    gdp = pd.read_excel('gdplev.xls', usecols=range(4,7), skiprows=7)\n",
    "    gdp.columns = ['Quarter', 'GDP', 'GDP Chained']\n",
    "    gdp = gdp.iloc[gdp[gdp['Quarter'].str.startswith(start)].index.tolist()[0]:gdp[gdp['Quarter'].str.startswith(end)].index.tolist()[0]+1].reset_index(drop=True)\n",
    "    return gdp[gdp['GDP Chained'] == gdp['GDP Chained'].min()]['Quarter'].tolist()[0]"
   ]
  },
  {
   "cell_type": "code",
   "execution_count": 175,
   "metadata": {
    "collapsed": false
   },
   "outputs": [],
   "source": [
    "def convert_housing_data_to_quarters():\n",
    "    '''Converts the housing data to quarters and returns it as mean \n",
    "    values in a dataframe. This dataframe should be a dataframe with\n",
    "    columns for 2000q1 through 2016q3, and should have a multi-index\n",
    "    in the shape of [\"State\",\"RegionName\"].\n",
    "    \n",
    "    Note: Quarters are defined in the assignment description, they are\n",
    "    not arbitrary three month periods.\n",
    "    \n",
    "    The resulting dataframe should have 67 columns, and 10,730 rows.\n",
    "    '''\n",
    "    df = pd.read_csv('City_Zhvi_AllHomes.csv')\n",
    "    df.columns.tolist().index('2001-01')\n",
    "    df = df.loc[:, ['State', 'RegionName','RegionID','Metro','CountyName','SizeRank'] + df.columns[63:].tolist()]\n",
    "    for i in range(6,193, 3):\n",
    "        quarter = re.search('\\d*', df.columns[i]).group(0) + 'q'+str((int(re.search('-\\d*', df.columns[i]).group(0)[1:])//3)+1)\n",
    "        df[quarter] = df[df.columns[[i,i+1,i+2]]].apply(np.mean, axis=1)\n",
    "    df.drop(df.columns[[range(2,190)]],axis=1, inplace=True)\n",
    "    df.replace({'State' : states}, inplace=True)\n",
    "    df.set_index(['State','RegionName'], inplace=True)\n",
    "    return df\n",
    "\n"
   ]
  },
  {
   "cell_type": "code",
   "execution_count": 178,
   "metadata": {
    "collapsed": false
   },
   "outputs": [],
   "source": [
    "df = convert_housing_data_to_quarters()"
   ]
  },
  {
   "cell_type": "code",
   "execution_count": 191,
   "metadata": {
    "collapsed": false
   },
   "outputs": [
    {
     "ename": "SyntaxError",
     "evalue": "invalid syntax (<ipython-input-191-e46cf535598f>, line 1)",
     "output_type": "error",
     "traceback": [
      "\u001b[0;36m  File \u001b[0;32m\"<ipython-input-191-e46cf535598f>\"\u001b[0;36m, line \u001b[0;32m1\u001b[0m\n\u001b[0;31m    lambda i for i,x in enumerate(df.columns == get_recession_start()) if x\u001b[0m\n\u001b[0m               ^\u001b[0m\n\u001b[0;31mSyntaxError\u001b[0m\u001b[0;31m:\u001b[0m invalid syntax\n"
     ]
    }
   ],
   "source": [
    "lambda i for i,x in enumerate(df.columns == get_recession_start()) if x\n",
    "#print(get_recession_bottom())"
   ]
  },
  {
   "cell_type": "code",
   "execution_count": null,
   "metadata": {
    "collapsed": false
   },
   "outputs": [],
   "source": [
    "def run_ttest():\n",
    "    '''First creates new data showing the decline or growth of housing prices\n",
    "    between the recession start and the recession bottom. Then runs a ttest\n",
    "    comparing the university town values to the non-university towns values, \n",
    "    return whether the alternative hypothesis (that the two groups are the same)\n",
    "    is true or not as well as the p-value of the confidence. \n",
    "    \n",
    "    Return the tuple (different, p, better) where different=True if the t-test is\n",
    "    True at a p<0.01 (we reject the null hypothesis), or different=False if \n",
    "    otherwise (we cannot reject the null hypothesis). The variable p should\n",
    "    be equal to the exact p value returned from scipy.stats.ttest_ind(). The\n",
    "    value for better should be either \"university town\" or \"non-university town\"\n",
    "    depending on which has a lower mean price ratio (which is equivilent to a\n",
    "    reduced market loss).'''\n",
    "    \n",
    "    return \"ANSWER\""
   ]
  }
 ],
 "metadata": {
  "coursera": {
   "course_slug": "python-data-analysis",
   "graded_item_id": "Il9Fx",
   "launcher_item_id": "TeDW0",
   "part_id": "WGlun"
  },
  "kernelspec": {
   "display_name": "Python 3",
   "language": "python",
   "name": "python3"
  },
  "language_info": {
   "codemirror_mode": {
    "name": "ipython",
    "version": 3
   },
   "file_extension": ".py",
   "mimetype": "text/x-python",
   "name": "python",
   "nbconvert_exporter": "python",
   "pygments_lexer": "ipython3",
   "version": "3.5.2"
  }
 },
 "nbformat": 4,
 "nbformat_minor": 0
}
